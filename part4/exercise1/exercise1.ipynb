{
 "cells": [
  {
   "cell_type": "markdown",
   "metadata": {},
   "source": [
    "# Woordvectoren\n",
    "\n",
    "Deze opdracht staat in het teken van *word vectors*. Zoals tijdens het theoretische deel is toegelicht, representeren we in *Natural Language Processing* (*NLP*) elk woord als een pan-dimensionale vector van getallen. Deze vector is gerelateerd aan de betekenis van het woord. Voor deze module voert het te ver om dergelijke [*embeddings*](https://en.wikipedia.org/wiki/Word_embedding) zelf uit te programmeren, dus maken we gebruik van al getrainde modellen. In het echte leven is het ook zeer ongebruikelijk om embeddings zelf te programmeren, omdat het veel tijd en energie kost en ze eenvoudig beschikbaar zijn.\n",
    "\n",
    "In deze opgave gebruiken we *word embeddings* om de hoofdstad van een land te bepalen. We maken hierbij gebruik van de cosinusgelijkheid en de euclidische afstand, die beiden in het hoorcollege zijn toegelicht."
   ]
  },
  {
   "cell_type": "markdown",
   "metadata": {},
   "source": [
    "### importeren van de data en de libraries\n",
    "\n",
    "Zoals gebruikelijk beginnen we met het imporeren van de noodzakelijke python-libraries en het laden van de dataset. Voor het gemak maken we weer gebruik van [een Pandas DataFrame](https://pandas.pydata.org/pandas-docs/stable/getting_started/dsintro.html) om dat data in op te slaan – een techniek die heel veel wordt gebruikt in machine-learning-projecten. \n"
   ]
  },
  {
   "cell_type": "code",
   "metadata": {
    "ExecuteTime": {
     "end_time": "2024-10-01T08:31:58.666842Z",
     "start_time": "2024-10-01T08:31:55.684998Z"
    }
   },
   "source": [
    "# Run deze cel om de packages te laden.\n",
    "import pickle\n",
    "import numpy as np\n",
    "import pandas as pd\n",
    "import matplotlib.pyplot as plt\n",
    "\n",
    "from part4.utils import get_vectors"
   ],
   "outputs": [],
   "execution_count": 2
  },
  {
   "cell_type": "code",
   "metadata": {
    "ExecuteTime": {
     "end_time": "2024-10-01T08:31:58.728529Z",
     "start_time": "2024-10-01T08:31:58.690528Z"
    }
   },
   "source": [
    "# Run deze cel om de data te laden.\n",
    "data = pd.read_csv('data/capitals.txt', delimiter=' ')\n",
    "data.columns = ['city1', 'country1', 'city2', 'country2']\n",
    "\n",
    "# een beeld van de data\n",
    "data.head(5) "
   ],
   "outputs": [
    {
     "data": {
      "text/plain": [
       "    city1 country1    city2     country2\n",
       "0  Athens   Greece  Bangkok     Thailand\n",
       "1  Athens   Greece  Beijing        China\n",
       "2  Athens   Greece   Berlin      Germany\n",
       "3  Athens   Greece     Bern  Switzerland\n",
       "4  Athens   Greece    Cairo        Egypt"
      ],
      "text/html": [
       "<div>\n",
       "<style scoped>\n",
       "    .dataframe tbody tr th:only-of-type {\n",
       "        vertical-align: middle;\n",
       "    }\n",
       "\n",
       "    .dataframe tbody tr th {\n",
       "        vertical-align: top;\n",
       "    }\n",
       "\n",
       "    .dataframe thead th {\n",
       "        text-align: right;\n",
       "    }\n",
       "</style>\n",
       "<table border=\"1\" class=\"dataframe\">\n",
       "  <thead>\n",
       "    <tr style=\"text-align: right;\">\n",
       "      <th></th>\n",
       "      <th>city1</th>\n",
       "      <th>country1</th>\n",
       "      <th>city2</th>\n",
       "      <th>country2</th>\n",
       "    </tr>\n",
       "  </thead>\n",
       "  <tbody>\n",
       "    <tr>\n",
       "      <th>0</th>\n",
       "      <td>Athens</td>\n",
       "      <td>Greece</td>\n",
       "      <td>Bangkok</td>\n",
       "      <td>Thailand</td>\n",
       "    </tr>\n",
       "    <tr>\n",
       "      <th>1</th>\n",
       "      <td>Athens</td>\n",
       "      <td>Greece</td>\n",
       "      <td>Beijing</td>\n",
       "      <td>China</td>\n",
       "    </tr>\n",
       "    <tr>\n",
       "      <th>2</th>\n",
       "      <td>Athens</td>\n",
       "      <td>Greece</td>\n",
       "      <td>Berlin</td>\n",
       "      <td>Germany</td>\n",
       "    </tr>\n",
       "    <tr>\n",
       "      <th>3</th>\n",
       "      <td>Athens</td>\n",
       "      <td>Greece</td>\n",
       "      <td>Bern</td>\n",
       "      <td>Switzerland</td>\n",
       "    </tr>\n",
       "    <tr>\n",
       "      <th>4</th>\n",
       "      <td>Athens</td>\n",
       "      <td>Greece</td>\n",
       "      <td>Cairo</td>\n",
       "      <td>Egypt</td>\n",
       "    </tr>\n",
       "  </tbody>\n",
       "</table>\n",
       "</div>"
      ]
     },
     "execution_count": 3,
     "metadata": {},
     "output_type": "execute_result"
    }
   ],
   "execution_count": 3
  },
  {
   "cell_type": "markdown",
   "metadata": {},
   "source": [
    "In de cel hieronder laden we de *word-embedding* die, zoals gezegd, vanuit een getraind model komt. Voor de volledigheid: deze embedding is een subset van [een project van Google](https://code.google.com/archive/p/word2vec/). In deze embedding zitten maar 243 woorden, maar voor deze opgave is dat prima. De woorden zijn opgeslagen als een python dictionary, waarvan de *key* het woord is en de *value* een driehonderd-dimensionale vector die de betekenis representeert."
   ]
  },
  {
   "cell_type": "code",
   "metadata": {
    "ExecuteTime": {
     "end_time": "2024-10-01T08:31:58.809014Z",
     "start_time": "2024-10-01T08:31:58.789864Z"
    }
   },
   "source": [
    "word_embeddings = pickle.load(open(\"data/word_embeddings_subset.p\", \"rb\"))\n",
    "len(word_embeddings)  # 243"
   ],
   "outputs": [
    {
     "data": {
      "text/plain": [
       "243"
      ]
     },
     "execution_count": 4,
     "metadata": {},
     "output_type": "execute_result"
    }
   ],
   "execution_count": 4
  },
  {
   "cell_type": "code",
   "metadata": {
    "ExecuteTime": {
     "end_time": "2024-10-01T08:31:58.918562Z",
     "start_time": "2024-10-01T08:31:58.913556Z"
    }
   },
   "source": [
    "type(word_embeddings)"
   ],
   "outputs": [
    {
     "data": {
      "text/plain": [
       "dict"
      ]
     },
     "execution_count": 5,
     "metadata": {},
     "output_type": "execute_result"
    }
   ],
   "execution_count": 5
  },
  {
   "cell_type": "code",
   "metadata": {
    "ExecuteTime": {
     "end_time": "2024-10-01T08:31:59.172144Z",
     "start_time": "2024-10-01T08:31:59.167714Z"
    }
   },
   "source": [
    "print(f\"grootte van de vector voor Berlijn: {word_embeddings['Berlin'].shape[0]}\")"
   ],
   "outputs": [
    {
     "name": "stdout",
     "output_type": "stream",
     "text": [
      "grootte van de vector voor Berlijn: 300\n"
     ]
    }
   ],
   "execution_count": 6
  },
  {
   "cell_type": "markdown",
   "metadata": {},
   "source": [
    "## Stap 1: Voorspellen van de relaties tussen woorden.\n",
    "\n",
    "We gaan een functie maken die de gegeven *word embeddings* gebruikt om de relatie tussen woorden te voorspellen. Deze functie krijgt drie parameters: de eerste twee zijn op een bepaalde manier aan elkaar gerelateerd en de functie geeft een nieuw woord terug dat eenzelfde relatie heeft met het gegeven derde woord. Wanneer we bijvoorbeeld de functie aanroepen met `Athene`, `Griekenland` en `Bankok`, moet de functie `Thailand` teruggeven (Athene staat immers tot Griekenland als Bankok staat tot Thailand).\n",
    "\n",
    "![uitleg van rekenen met woordvectoren](imgs/vectors.jpeg)"
   ]
  },
  {
   "cell_type": "markdown",
   "metadata": {},
   "source": [
    "### 1.1 Cosinusgelijkheid\n",
    "\n",
    "Om de functie te kunnen maken, moeten we de cosinusgelijkheid van twee vectoren kunnen bepalen. Deze is hieronder gegeven:\n",
    "\n",
    "$$\\cos (\\theta)=\\frac{\\mathbf{A} \\cdot \\mathbf{B}}{\\|\\mathbf{A}\\|\\|\\mathbf{B}\\|}=\\frac{\\sum_{i=1}^{n} A_{i} B_{i}}{\\sqrt{\\sum_{i=1}^{n} A_{i}^{2}} \\sqrt{\\sum_{i=1}^{n} B_{i}^{2}}}\\tag{1}$$\n",
    "\n",
    "waarbij\n",
    "$A$ en $B$ (woord)vectoren en $A_i$, $B_i$ het i-de element van die vector zijn. \n",
    "\n",
    "* Wanneer $A$ en $B$ gelijk zijn, levert dat $cos(\\theta) = 1$ op.\n",
    "* Wanneer $A$ en $B$ exact tegengesteld zijn ($A = -B$), levert dat $cos(\\theta) = -1$ op.\n",
    "* Als $cos(\\theta) =0$, dan zijn $A$ en $B$ *orthogonaal* ($cos(90\\degree) = 0$, weten we nog?).\n",
    "* Bij waarden tussen 0 en 1 hebben $A$ en $B$ een *hoge gelijkenis* (hoger is meer gelijk aan elkaar).\n",
    "* Bij waarden tussen 0 en -1 hebben $A$ en $B$ een *lage gelijkenis* (lager is minder gelijk aan elkaar).\n",
    "\n",
    "Maak de functie `cosine_similarity` in de cel hieronder. Maak hierbij gebruik van `numpy.dot` en `numpy.linalg.norm`."
   ]
  },
  {
   "cell_type": "code",
   "metadata": {
    "ExecuteTime": {
     "end_time": "2024-10-01T08:31:59.455655Z",
     "start_time": "2024-10-01T08:31:59.451341Z"
    }
   },
   "source": [
    "def cosine_similarity(A: np.ndarray, B: np.ndarray) -> float:\n",
    "    \"\"\"\n",
    "    Input:\n",
    "        A: een woordvector als numpy array\n",
    "        B: een woordvector als numpy array\n",
    "    Output:\n",
    "        cos: numerieke waarde van de cosinusgelijkheid tussen A en B\n",
    "    \"\"\"\n",
    "    dot = np.dot(A, B)\n",
    "    norma = np.linalg.norm(A)\n",
    "    normb = np.linalg.norm(B)\n",
    "    cos = dot / (norma * normb)\n",
    "    \n",
    "    return cos"
   ],
   "outputs": [],
   "execution_count": 7
  },
  {
   "cell_type": "code",
   "metadata": {
    "ExecuteTime": {
     "end_time": "2024-10-01T08:31:59.584089Z",
     "start_time": "2024-10-01T08:31:59.575121Z"
    }
   },
   "source": [
    "king = word_embeddings['king']\n",
    "queen = word_embeddings['queen']\n",
    "\n",
    "print (f'cosine_similarity(king, queen): {cosine_similarity(king, queen)}')\n",
    "print ('dit zou ongeveer 0.651 moeten zijn')\n"
   ],
   "outputs": [
    {
     "name": "stdout",
     "output_type": "stream",
     "text": [
      "cosine_similarity(king, queen): 0.6510956287384033\n",
      "dit zou ongeveer 0.651 moeten zijn\n"
     ]
    }
   ],
   "execution_count": 8
  },
  {
   "cell_type": "markdown",
   "metadata": {},
   "source": [
    "### 1.2 Euclidische afstand\n",
    "\n",
    "Maak nu een functie `euclidian` die de euclidische afstand tussen twee vectoren bepaalt. Maak hierbij weer gebruik van `numpy.linalg.norm`. De Euclidische afstand tussen twee vectoren is als volgt:\n",
    "\n",
    "$$ \\begin{aligned} d(\\mathbf{A}, \\mathbf{B})=d(\\mathbf{B}, \\mathbf{A}) &=\\sqrt{\\left(A_{1}-B_{1}\\right)^{2}+\\left(A_{2}-B_{2}\\right)^{2}+\\cdots+\\left(A_{n}-B_{n}\\right)^{2}} \\\\ &=\\sqrt{\\sum_{i=1}^{n}\\left(A_{i}-B_{i}\\right)^{2}} \\end{aligned}$$\n",
    "\n",
    "* $A$ en $B$ zijn (opnieuw) twee (woord)vectoren.\n",
    "* $n$ is het aantal elementen in de vector.\n",
    "* Hoe meer de twee woorden op elkaar lijken, hoe meer deze afstand gelijk is aan nul (0).\n"
   ]
  },
  {
   "cell_type": "code",
   "metadata": {
    "ExecuteTime": {
     "end_time": "2024-10-01T08:31:59.666946Z",
     "start_time": "2024-10-01T08:31:59.662625Z"
    }
   },
   "source": [
    "def euclidean(A: np.ndarray, B: np.ndarray) -> float:\n",
    "    \"\"\"\n",
    "    Input:\n",
    "        A: een woordvector als numpy array\n",
    "        B: een woordvector als numpy array\n",
    "    Output:\n",
    "        d: numerieke waarde van de euclidische afstand tussen A en B\n",
    "    \"\"\"\n",
    "    return np.linalg.norm(A - B)\n"
   ],
   "outputs": [],
   "execution_count": 9
  },
  {
   "cell_type": "code",
   "metadata": {
    "ExecuteTime": {
     "end_time": "2024-10-01T08:31:59.716410Z",
     "start_time": "2024-10-01T08:31:59.711871Z"
    }
   },
   "source": [
    "print (f'euclidean(king, queen): {euclidean(king, queen)}')\n",
    "print ('zou ongeveer 2.48 moeten zijn')"
   ],
   "outputs": [
    {
     "name": "stdout",
     "output_type": "stream",
     "text": [
      "euclidean(king, queen): 2.4796924591064453\n",
      "zou ongeveer 2.48 moeten zijn\n"
     ]
    }
   ],
   "execution_count": 10
  },
  {
   "cell_type": "markdown",
   "metadata": {},
   "source": [
    "## stap 1.3: zoeken van het land op basis van de hoofdstad\n",
    "\n",
    "Nu maken we de functie `get_countries` waarmee we de hoofdstad van een land kunnen bepalen op basis van de twee gegeven woorden, zoals in het begin van deze notebook is beschreven. \n",
    "\n",
    "```python\n",
    "get_country('Athens', 'Greece', 'Baghdad')\n",
    "# Retourneert 'Iraq'\n",
    "```\n",
    "\n",
    "1. Denk terug aan het voorbeeld hierboven: `King - Man + Woman = Queen`. Implementeer dit idee in de cel hieronder, waarbij je de functies gebruikt die we in de vorige twee stappen hebben gezet.\n",
    "\n",
    "2. Bepaal de cosinussimulariteit tussen de gegeven woorden en elk woord in de dictionary.\n",
    "\n",
    "3. Retourneer een dictionary van vijf woorden uit de embedding met de hoogste similariteit, gesorteerd op similariteitsscore, samen met hun similariteitsscore.\n",
    "\n",
    "__LET OP__ dat je niet een woord teruggeeft dat al gegeven was."
   ]
  },
  {
   "cell_type": "code",
   "metadata": {
    "ExecuteTime": {
     "end_time": "2024-10-01T08:31:59.779491Z",
     "start_time": "2024-10-01T08:31:59.774968Z"
    }
   },
   "source": [
    "def get_countries(city1: str, country1: str, city2: str, embeddings: dict[str, np.ndarray]) -> dict[str, float]:\n",
    "    \"\"\"\n",
    "    Input:\n",
    "        city1: string met de hoofdstad van een land\n",
    "        country1: string met dat land \n",
    "        city2: string met een hoofdstad\n",
    "        embeddings: dictionary met als keys de landen en als values hun embeddings\n",
    "    Output:\n",
    "        countries: dictionary met de vijf meest gelijkende landen en hun similariteitsscore\n",
    "    \"\"\"\n",
    "    countries = {}\n",
    "    \n",
    "    vec = embeddings[country1] - embeddings[city1] + embeddings[city2]\n",
    "    for country in embeddings.keys():\n",
    "        if country == country1:\n",
    "            continue\n",
    "            \n",
    "        countries[country] = cosine_similarity(vec, embeddings[country])\n",
    "\n",
    "    return dict(sorted(countries.items(), key=lambda x: x[1], reverse=True)[:5])\n"
   ],
   "outputs": [],
   "execution_count": 11
  },
  {
   "cell_type": "code",
   "metadata": {
    "ExecuteTime": {
     "end_time": "2024-10-01T08:31:59.829622Z",
     "start_time": "2024-10-01T08:31:59.822415Z"
    }
   },
   "source": [
    "vals = get_countries('Athens', 'Greece', 'Cairo', word_embeddings)\n",
    "if len(vals) > 0:\n",
    "    hoogste_woord = list(vals.keys())[0]\n",
    "    hoogste_waarde = list(vals.values())[0]\n",
    "    print (f'Woord met de hoogste waarde: {hoogste_woord} ({hoogste_waarde})')\n",
    "    print ('(Egypt met als waarde ongeveer 0.763')"
   ],
   "outputs": [
    {
     "name": "stdout",
     "output_type": "stream",
     "text": [
      "Woord met de hoogste waarde: Egypt (0.7626821994781494)\n",
      "(Egypt met als waarde ongeveer 0.763\n"
     ]
    }
   ],
   "execution_count": 12
  },
  {
   "cell_type": "markdown",
   "metadata": {},
   "source": [
    "### stap 1.4 accuratesse\n",
    "\n",
    "Bepaal nu de accuratesse van het model op basis van de gegeven dataset:\n",
    "\n",
    "$$\n",
    "acc = \\frac{n_{corr}}{n_{tot}}\n",
    "$$\n",
    "\n",
    "waarbij $n_{corr}$ het aantal *correcte* voorspellingen is en $n_{tot}$ het *totaal* aantal voorspellingen is. Je moet over elke regel van de dataset lopen en het woord in de methode `get_country` stoppen.\n",
    "\n",
    "__Tip :__ Je kunt gebruik maken van [`pandas.DataFrame.iterrows`](https://pandas.pydata.org/pandas-docs/stable/reference/api/pandas.DataFrame.iterrows.html)."
   ]
  },
  {
   "cell_type": "code",
   "metadata": {
    "ExecuteTime": {
     "end_time": "2024-10-01T08:31:59.874179Z",
     "start_time": "2024-10-01T08:31:59.869669Z"
    }
   },
   "source": [
    "def get_accuracy(word_embeddings: dict[str, np.ndarray], data: pd.DataFrame) -> float:\n",
    "    \"\"\"\n",
    "    Input:\n",
    "        word_embeddings: dictionary met als keys de woorden en als values hun embeddings\n",
    "        data: pandas dataframe met land-hoofdstad paren\n",
    "    \n",
    "    Output:\n",
    "        accuracy: accuratesse van het model\n",
    "    \"\"\"\n",
    "    n_corr = 0\n",
    "    n_tot = data.shape[0]\n",
    "    \n",
    "    for i, (city1, country1, city2, country2) in data.iterrows():\n",
    "        countries = get_countries(city1, country1, city2, word_embeddings)\n",
    "        if country2 in countries:\n",
    "            n_corr += 1\n",
    "        \n",
    "    return n_corr / n_tot\n"
   ],
   "outputs": [],
   "execution_count": 13
  },
  {
   "cell_type": "markdown",
   "metadata": {},
   "source": [
    "Bepaal nu de accuratesse van het model, door onderstaande cel te runnen. __Let op :__ dat kan wel enige tientallen seconden duren."
   ]
  },
  {
   "cell_type": "code",
   "metadata": {
    "ExecuteTime": {
     "end_time": "2024-10-01T08:32:09.532314Z",
     "start_time": "2024-10-01T08:31:59.907798Z"
    }
   },
   "source": [
    "accuracy = get_accuracy(word_embeddings, data)\n",
    "print (f\"Accuratesse is {accuracy:.2f}\")\n",
    "print ('zou zo ongeveer 0.92 moeten zijn')"
   ],
   "outputs": [
    {
     "name": "stdout",
     "output_type": "stream",
     "text": [
      "Accuratesse is 0.98\n",
      "zou zo ongeveer 0.92 moeten zijn\n"
     ]
    }
   ],
   "execution_count": 14
  },
  {
   "cell_type": "markdown",
   "metadata": {},
   "source": [
    "# Stap 2: plotten van de vectoren met behulp van PCA\n",
    "\n",
    "We gaan nu de dimensionaliteit van de vectoren reduceren en de afstand tussen de vectoren bekijken. We maken hiervoor gebruik van [*Hoofdcomponentenanalyse*](https://nl.wikipedia.org/wiki/Hoofdcomponentenanalyse) ([*Principle Component Analysis*](https://en.wikipedia.org/wiki/Principal_component_analysis)). \n",
    "\n",
    "Zoals je hebt gezien werken we met een driehonderd-dimensionale vectorruimte. Hoewel de computers hier wel mee om kunnen gaan, is het lastig om hier een plaatje van de creëren. Om dit toch kunnen doen moeten we het aantal dimensies reduceren (de zogenaamde *dimensionaliteitsreductie*, of in het Engels: *dimensionality reduction*). Eén van de meest gebruikte technieken hiervoor is PCA (hoewel dat eigenlijk geen reductie- maar een *transformatie*techniek is).\n",
    "\n",
    "Zoals tijdens het hoorcollege is toegelicht, projecteert PCA de vectoren op een ander assenstelsel waarmee de maximale informatie uit de originele vectoren wordt behouden. In dit specifieke geval zijn we op zoek naar die vectoren waarvan de euclidische afstand tot de oorspronkelijke vectoren *minimaal* is.\n",
    "\n",
    "Vectoren die in de oorspronkelijke dataset vlak bij elkaar zitten, zullen dan ook in de gereduceerde dimensionaliteit dicht bij elkaar zitten. De vectoren voor bijvoorbeeld de woorden 'sad', 'happy', 'joyful' beschrijven allemaal bepaalde gevoelens en zullen vlak bij elkaar zitten. \n",
    "\n",
    "Omdat we de boel als een 2D-plaatje willen weergeven, moeten we alle woordvectoren eerst met behulp van PCA reduceren tot een twee-dimensionale vector reduceren. "
   ]
  },
  {
   "cell_type": "markdown",
   "metadata": {},
   "source": [
    "Hieronder staat een stappenplan:\n",
    "\n",
    "1. Normaliseer de data (maak gebruik van [`numpy.mean`](https://docs.scipy.org/doc/numpy/reference/generated/numpy.mean.html).\n",
    "2. Bereken de covariantiematrix $\\Sigma$ (maak gebruik van [`numpy.cov`](https://docs.scipy.org/doc/numpy/reference/generated/numpy.cov.html).\n",
    "3. Bereken de eigenvectors en eigenvalues van $\\Sigma$ (maak gebruik van [`numpy.linalg.eigh`](https://numpy.org/doc/stable/reference/generated/numpy.linalg.eigh.html).\n",
    "4. Sorteer deze eigenvectors en eigenvalues van hoog naar laag op eigenvalues (check [`numpy.argsort`](https://docs.scipy.org/doc/numpy/reference/generated/numpy.argsort.html).\n",
    "5. Maak een subset van deze gesorteerde eigenvectors (gebruik de parameter `n_components`)\n",
    "6. Vermenigvuldig deze subset van eigenvectors met de oorspronkelijke data\n",
    "7. Retourneer deze vermenigvuldiging; als het goed is, is de `shape` van deze geretourneerde matrix `(m, n_components)`.\n",
    "\n",
    "Het plaatje hieronder geeft het proces grafisch weer.\n",
    "\n",
    "![Het resultaat van deze oefening](imgs/word_embf.jpeg)\n"
   ]
  },
  {
   "cell_type": "code",
   "metadata": {
    "ExecuteTime": {
     "end_time": "2024-10-01T08:32:09.585942Z",
     "start_time": "2024-10-01T08:32:09.579384Z"
    }
   },
   "source": [
    "def compute_pca(X: np.ndarray, n_components: int = 2) -> np.ndarray:\n",
    "    \"\"\"\n",
    "    Input:\n",
    "        X: een matrix van (m,n) waarbij elke regel een woordvector bevat\n",
    "        n_components: het aantal componenten dat teruggegeven moet worden\n",
    "    Output:\n",
    "        X_reduced: de data getransformeerd tot 2 dims/columns + geregenereerde originele data\n",
    "    \"\"\"\n",
    "    norm = X - np.mean(X, axis=0)\n",
    "    cov = np.cov(norm, rowvar=False)\n",
    "\n",
    "    eig_vals, eig_vecs = np.linalg.eigh(cov)\n",
    "    \n",
    "    idx = np.argsort(eig_vals)[::-1]\n",
    "    eig_vecs = eig_vecs[:, idx]\n",
    "    eig_vecs = eig_vecs[:, :n_components]\n",
    "    \n",
    "    return np.dot(X, eig_vecs)\n"
   ],
   "outputs": [],
   "execution_count": 15
  },
  {
   "cell_type": "code",
   "metadata": {
    "ExecuteTime": {
     "end_time": "2024-10-01T08:32:09.628276Z",
     "start_time": "2024-10-01T08:32:09.611511Z"
    }
   },
   "source": [
    "# Testing testing one, two, three\n",
    "np.random.seed(1)\n",
    "X = np.random.rand(3, 10)\n",
    "X_reduced = compute_pca(X, n_components=2)\n",
    "print(f\"Orignele matrix was ({X.shape})\")\n",
    "print (\"Output van de functie `compute_pca`:\")\n",
    "print(X_reduced)"
   ],
   "outputs": [
    {
     "name": "stdout",
     "output_type": "stream",
     "text": [
      "Orignele matrix was ((3, 10))\n",
      "Output van de functie `compute_pca`:\n",
      "[[-0.46568576  0.01061152]\n",
      " [-0.4792865   1.01232984]\n",
      " [-1.75520469  0.50350472]]\n"
     ]
    }
   ],
   "execution_count": 16
  },
  {
   "cell_type": "markdown",
   "metadata": {},
   "source": [
    "In de cel hieronder gebruiken we de functie `compute_pca` om een plot te maken van een aantal woorden. Je kunt deze cel eenvoudig runnen. Wat valt je op aan het resultaat?"
   ]
  },
  {
   "cell_type": "code",
   "metadata": {
    "ExecuteTime": {
     "end_time": "2024-10-01T08:32:10.024075Z",
     "start_time": "2024-10-01T08:32:09.668351Z"
    }
   },
   "source": [
    "words = ['oil', 'gas', 'happy', 'sad', 'city', 'town',\n",
    "         'village', 'country', 'continent', 'petroleum', 'joyful']\n",
    "\n",
    "X = get_vectors(word_embeddings, words)\n",
    "result = compute_pca(X, 2)\n",
    "plt.scatter(result[:, 0], result[:, 1])\n",
    "for i, word in enumerate(words):\n",
    "    plt.annotate(word, xy=(result[i, 0] - 0.05, result[i, 1] + 0.1))\n",
    "\n",
    "plt.show()\n",
    "\n",
    "\"\"\"\n",
    "Je kan zien dat de woorden samen in een cluster zitten. Zo zitten bijvoorbeeld\n",
    "'happy', 'joyful' en 'sad' dicht bij elkaar, en 'oil', 'gas' en 'petroleum' ook.\n",
    "\n",
    "Cluster 1: happy, joyful, sad\n",
    "Cluster 2: oil, gas, petroleum\n",
    "Cluster 3: city, town, village\n",
    "Cluster 4: country, continent\n",
    "\"\"\""
   ],
   "outputs": [
    {
     "data": {
      "text/plain": [
       "<Figure size 640x480 with 1 Axes>"
      ],
      "image/png": "[encoded data removed]"
     },
     "metadata": {},
     "output_type": "display_data"
    },
    {
     "data": {
      "text/plain": [
       "\"\\nJe kan zien dat de woorden samen in een cluster zitten. Zo zitten bijvoorbeeld\\n'happy', 'joyful' en 'sad' dicht bij elkaar, en 'oil', 'gas' en 'petroleum' ook.\\n\\nCluster 1: happy, joyful, sad\\nCluster 2: oil, gas, petroleum\\nCluster 3: city, town, village\\nCluster 4: country, continent\\n\""
      ]
     },
     "execution_count": 17,
     "metadata": {},
     "output_type": "execute_result"
    }
   ],
   "execution_count": 17
  },
  {
   "metadata": {
    "ExecuteTime": {
     "end_time": "2024-10-01T08:32:10.079534Z",
     "start_time": "2024-10-01T08:32:10.076738Z"
    }
   },
   "cell_type": "code",
   "source": "",
   "outputs": [],
   "execution_count": null
  }
 ],
 "metadata": {
  "anaconda-cloud": {},
  "coursera": {
   "schema_names": [
    "NLPC1-3"
   ]
  },
  "kernelspec": {
   "display_name": "Python 3 (ipykernel)",
   "language": "python",
   "name": "python3"
  },
  "language_info": {
   "codemirror_mode": {
    "name": "ipython",
    "version": 3
   },
   "file_extension": ".py",
   "mimetype": "text/x-python",
   "name": "python",
   "nbconvert_exporter": "python",
   "pygments_lexer": "ipython3",
   "version": "3.12.2"
  }
 },
 "nbformat": 4,
 "nbformat_minor": 4
}
